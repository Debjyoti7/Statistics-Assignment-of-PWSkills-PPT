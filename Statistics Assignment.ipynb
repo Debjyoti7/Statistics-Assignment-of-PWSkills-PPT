{
 "cells": [
  {
   "cell_type": "markdown",
   "id": "3d1e54f2",
   "metadata": {},
   "source": [
    "# 1. Scenario: A company wants to analyze the sales performance of its products in different regions. They have collected the following data:\n",
    "#   Region A: [10, 15, 12, 8, 14]\n",
    " #  Region B: [18, 20, 16, 22, 25]\n",
    " #  Calculate the mean sales for each region.\n"
   ]
  },
  {
   "cell_type": "code",
   "execution_count": 1,
   "id": "e497ecff",
   "metadata": {},
   "outputs": [],
   "source": [
    "l1=[10,15,12,8,14]\n",
    "l2=[18,20,16,22,25]"
   ]
  },
  {
   "cell_type": "code",
   "execution_count": 2,
   "id": "12daabd8",
   "metadata": {},
   "outputs": [
    {
     "name": "stdout",
     "output_type": "stream",
     "text": [
      "The mean sales for RegionA is 11.8\n"
     ]
    }
   ],
   "source": [
    "import statistics\n",
    "mean1=statistics.mean(l1)\n",
    "print(f'The mean sales for RegionA is {mean1}')"
   ]
  },
  {
   "cell_type": "code",
   "execution_count": 3,
   "id": "9721539b",
   "metadata": {},
   "outputs": [
    {
     "name": "stdout",
     "output_type": "stream",
     "text": [
      "The average sales for RegionB is 20.2\n"
     ]
    }
   ],
   "source": [
    "mean2=statistics.mean(l2)\n",
    "print(f\"The average sales for RegionB is {mean2}\")"
   ]
  },
  {
   "cell_type": "markdown",
   "id": "0c71db85",
   "metadata": {},
   "source": [
    "# 2. Scenario: A survey is conducted to measure customer satisfaction on a scale of 1 to 5. The data collected is as follows:\n",
    "#   [4, 5, 2, 3, 5, 4, 3, 2, 4, 5]\n",
    "#   Calculate the mode of the survey responses.\n"
   ]
  },
  {
   "cell_type": "code",
   "execution_count": 4,
   "id": "44d92c1f",
   "metadata": {},
   "outputs": [
    {
     "name": "stdout",
     "output_type": "stream",
     "text": [
      "the mode of the survey response is 4\n"
     ]
    }
   ],
   "source": [
    "l=[4, 5, 2, 3, 5, 4, 3, 2, 4, 5]\n",
    "mode=statistics.mode(l)\n",
    "print(f\"the mode of the survey response is {mode}\")"
   ]
  },
  {
   "cell_type": "markdown",
   "id": "4324a710",
   "metadata": {},
   "source": [
    "# 3. Scenario: A company wants to compare the salaries of two departments. The salary data for Department A and Department B are as follows:\n",
    "#   Department A: [5000, 6000, 5500, 7000]\n",
    "#   Department B: [4500, 5500, 5800, 6000, 5200]\n",
    "#   Calculate the median salary for each department.\n"
   ]
  },
  {
   "cell_type": "code",
   "execution_count": 5,
   "id": "1bfaf127",
   "metadata": {},
   "outputs": [],
   "source": [
    "Department_A= [5000, 6000, 5500, 7000]\n",
    "Department_B= [4500, 5500, 5800, 6000, 5200]"
   ]
  },
  {
   "cell_type": "code",
   "execution_count": 6,
   "id": "416455eb",
   "metadata": {},
   "outputs": [
    {
     "name": "stdout",
     "output_type": "stream",
     "text": [
      "the median salaray for department A is 5750.0\n"
     ]
    }
   ],
   "source": [
    "print(f\"the median salaray for department A is {statistics.median(Department_A)}\")"
   ]
  },
  {
   "cell_type": "code",
   "execution_count": 7,
   "id": "3298e7c4",
   "metadata": {},
   "outputs": [
    {
     "name": "stdout",
     "output_type": "stream",
     "text": [
      "the median salaray for department B is 5500\n"
     ]
    }
   ],
   "source": [
    "print(f\"the median salaray for department B is {statistics.median(Department_B)}\")"
   ]
  },
  {
   "cell_type": "markdown",
   "id": "4a25e814",
   "metadata": {},
   "source": [
    "# 4. Scenario: A data analyst wants to determine the variability in the daily stock prices of a company. The data collected is as follows:\n",
    "#   [25.5, 24.8, 26.1, 25.3, 24.9]\n",
    "#   Calculate the range of the stock prices.\n"
   ]
  },
  {
   "cell_type": "code",
   "execution_count": 8,
   "id": "bed761ec",
   "metadata": {},
   "outputs": [
    {
     "name": "stdout",
     "output_type": "stream",
     "text": [
      "The range of the stock prices is 1.3000000000000007\n"
     ]
    }
   ],
   "source": [
    "data = [25.5, 24.8, 26.1, 25.3, 24.9]\n",
    "maximum = max(data)\n",
    "minimum = min(data)\n",
    "data_range = maximum - minimum\n",
    "print(f\"The range of the stock prices is {data_range}\")"
   ]
  },
  {
   "cell_type": "markdown",
   "id": "19cf75dd",
   "metadata": {},
   "source": [
    "# 5. Scenario: A study is conducted to compare the performance of two different teaching methods. The test scores of the students in each group are as follows:\n",
    "#   Group A: [85, 90, 92, 88, 91]\n",
    "#   Group B: [82, 88, 90, 86, 87]\n",
    "#   Perform a t-test to determine if there is a significant difference in the mean scores between the two groups.\n"
   ]
  },
  {
   "cell_type": "code",
   "execution_count": 9,
   "id": "922cdac2",
   "metadata": {},
   "outputs": [],
   "source": [
    "Group_A = [85, 90, 92, 88, 91]\n",
    "Group_B = [82, 88, 90, 86, 87]\n",
    "mean1=statistics.mean(Group_A)\n",
    "mean2 = statistics.mean(Group_B)"
   ]
  },
  {
   "cell_type": "code",
   "execution_count": 10,
   "id": "8cad0cc3",
   "metadata": {},
   "outputs": [
    {
     "name": "stdout",
     "output_type": "stream",
     "text": [
      "89.2\n",
      "86.6\n"
     ]
    }
   ],
   "source": [
    "print(mean1)\n",
    "print(mean2)"
   ]
  },
  {
   "cell_type": "code",
   "execution_count": 11,
   "id": "8146500d",
   "metadata": {},
   "outputs": [
    {
     "name": "stdout",
     "output_type": "stream",
     "text": [
      "There is no significant difference between the mean scores of Group A and Group B.\n"
     ]
    }
   ],
   "source": [
    "import scipy.stats as stats\n",
    "t_statistic, p_value = stats.ttest_ind(Group_A, Group_B)\n",
    "alpha = 0.05  # significance level\n",
    "\n",
    "if p_value < alpha:\n",
    "    print(\"There is a significant difference between the mean scores of Group A and Group B.\")\n",
    "else:\n",
    "    print(\"There is no significant difference between the mean scores of Group A and Group B.\")"
   ]
  },
  {
   "cell_type": "markdown",
   "id": "6b361c8c",
   "metadata": {},
   "source": [
    "# 6. Scenario: A company wants to analyze the relationship between advertising expenditure and sales. The data collected is as follows:\n",
    "#   Advertising Expenditure (in thousands): [10, 15, 12, 8, 14]\n",
    "#   Sales (in thousands): [25, 30, 28, 20, 26]\n",
    "#   Calculate the correlation coefficient between advertising expenditure and sales.\n"
   ]
  },
  {
   "cell_type": "code",
   "execution_count": 12,
   "id": "8479fefa",
   "metadata": {},
   "outputs": [
    {
     "name": "stdout",
     "output_type": "stream",
     "text": [
      "The correlation coefficient between advertising expenditure and sales is 0.8757511375750133\n"
     ]
    }
   ],
   "source": [
    "import numpy as np\n",
    "\n",
    "advertising_expenditure = [10, 15, 12, 8, 14]\n",
    "sales = [25, 30, 28, 20, 26]\n",
    "\n",
    "correlation_coefficient = np.corrcoef(advertising_expenditure, sales)[0, 1]\n",
    "\n",
    "print(f\"The correlation coefficient between advertising expenditure and sales is {correlation_coefficient}\")\n"
   ]
  },
  {
   "cell_type": "markdown",
   "id": "9bfeed09",
   "metadata": {},
   "source": [
    "# 7. Scenario: A survey is conducted to measure the heights of a group of people. The data collected is as follows:\n",
    "#   [160, 170, 165, 155, 175, 180, 170]\n",
    "#   Calculate the standard deviation of the heights.\n"
   ]
  },
  {
   "cell_type": "code",
   "execution_count": 13,
   "id": "21a66a28",
   "metadata": {},
   "outputs": [
    {
     "name": "stdout",
     "output_type": "stream",
     "text": [
      "The standard deviation of the heights of the students is 7.953949089757174\n"
     ]
    }
   ],
   "source": [
    "heights= [160, 170, 165, 155, 175, 180, 170]\n",
    "standard_deviation = np.std(heights)\n",
    "print(f\"The standard deviation of the heights of the students is {standard_deviation}\")"
   ]
  },
  {
   "cell_type": "markdown",
   "id": "3c06bd01",
   "metadata": {},
   "source": [
    "# 8. Scenario: A company wants to analyze the relationship between employee tenure and job satisfaction. The data collected is as follows:\n",
    "#   Employee Tenure (in years): [2, 3, 5, 4, 6, 2, 4]\n",
    "#   Job Satisfaction (on a scale of 1 to 10): [7, 8, 6, 9, 5, 7, 6]\n",
    "#   Perform a linear regression analysis to predict job satisfaction based on employee tenure.\n"
   ]
  },
  {
   "cell_type": "code",
   "execution_count": 14,
   "id": "1049dc39",
   "metadata": {},
   "outputs": [
    {
     "name": "stdout",
     "output_type": "stream",
     "text": [
      "[7.19148936 6.72340426 6.25531915]\n"
     ]
    }
   ],
   "source": [
    "from sklearn.linear_model import LinearRegression\n",
    "import numpy as np\n",
    "\n",
    "employee_tenure = np.array([2, 3, 5, 4, 6, 2, 4]).reshape(-1, 1)\n",
    "job_satisfaction = np.array([7, 8, 6, 9, 5, 7, 6])\n",
    "\n",
    "# Create and fit the linear regression model\n",
    "regression_model = LinearRegression()\n",
    "regression_model.fit(employee_tenure, job_satisfaction)\n",
    "\n",
    "# Predict job satisfaction for new employee tenures\n",
    "new_employee_tenure = np.array([3, 4, 5]).reshape(-1, 1)\n",
    "predicted_job_satisfaction = regression_model.predict(new_employee_tenure)\n",
    "\n",
    "print(predicted_job_satisfaction)\n"
   ]
  },
  {
   "cell_type": "markdown",
   "id": "bced80f9",
   "metadata": {},
   "source": [
    "# 9. Scenario: A study is conducted to compare the effectiveness of two different medications. The recovery times of the patients in each group are as follows:\n",
    "#   Medication A: [10, 12, 14, 11, 13]\n",
    "#   Medication B: [15, 17, 16, 14, 18]\n",
    "#   Perform an analysis of variance (ANOVA) to determine if there is a significant difference in the mean recovery times between the two medications.\n"
   ]
  },
  {
   "cell_type": "code",
   "execution_count": 15,
   "id": "45b798ad",
   "metadata": {},
   "outputs": [
    {
     "name": "stdout",
     "output_type": "stream",
     "text": [
      "There is a significant difference in the mean recovery times between Medication A and Medication B.\n"
     ]
    }
   ],
   "source": [
    "import scipy.stats as stats\n",
    "\n",
    "Medication_A = [10, 12, 14, 11, 13]\n",
    "Medication_B = [15, 17, 16, 14, 18]\n",
    "\n",
    "f_statistic, p_value = stats.f_oneway(Medication_A, Medication_B)\n",
    "\n",
    "alpha = 0.05  # significance level\n",
    "\n",
    "if p_value < alpha:\n",
    "    print(\"There is a significant difference in the mean recovery times between Medication A and Medication B.\")\n",
    "else:\n",
    "    print(\"There is no significant difference in the mean recovery times between Medication A and Medication B.\")\n"
   ]
  },
  {
   "cell_type": "markdown",
   "id": "74b92884",
   "metadata": {},
   "source": [
    "# 10. Scenario: A company wants to analyze customer feedback ratings on a scale of 1 to 10. The data collected is as follows:\n",
    "#    [8, 9, 7, 6, 8, 10, 9, 8, 7, 8]\n",
    "#    Calculate the 75th percentile of the feedback ratings.\n"
   ]
  },
  {
   "cell_type": "code",
   "execution_count": 16,
   "id": "434feff4",
   "metadata": {},
   "outputs": [
    {
     "name": "stdout",
     "output_type": "stream",
     "text": [
      "8.75\n"
     ]
    }
   ],
   "source": [
    "feedback_ratings = [8, 9, 7, 6, 8, 10, 9, 8, 7, 8]\n",
    "\n",
    "percentile_75 = np.percentile(feedback_ratings, 75)\n",
    "\n",
    "print(percentile_75)"
   ]
  },
  {
   "cell_type": "markdown",
   "id": "27a8dc4a",
   "metadata": {},
   "source": [
    "# 11. Scenario: A quality control department wants to test the weight consistency of a product. The weights of a sample of products are as follows:\n",
    "#    [10.2, 9.8, 10.0, 10.5, 10.3, 10.1]\n",
    "#    Perform a hypothesis test to determine if the mean weight differs significantly from 10 grams.\n"
   ]
  },
  {
   "cell_type": "code",
   "execution_count": 17,
   "id": "16dcbb01",
   "metadata": {},
   "outputs": [
    {
     "name": "stdout",
     "output_type": "stream",
     "text": [
      "The mean weight does not significantly differ from 10 grams.\n"
     ]
    }
   ],
   "source": [
    "import scipy.stats as stats\n",
    "\n",
    "sample_weights = [10.2, 9.8, 10.0, 10.5, 10.3, 10.1]\n",
    "\n",
    "# Perform one-sample t-test\n",
    "t_statistic, p_value = stats.ttest_1samp(sample_weights, 10)\n",
    "\n",
    "alpha = 0.05  # significance level\n",
    "\n",
    "if p_value < alpha:\n",
    "    print(\"The mean weight significantly differs from 10 grams.\")\n",
    "else:\n",
    "    print(\"The mean weight does not significantly differ from 10 grams.\")\n"
   ]
  },
  {
   "cell_type": "markdown",
   "id": "cfd46633",
   "metadata": {},
   "source": [
    "# 12. Scenario: A company wants to analyze the click-through rates of two different website designs. The number of clicks for each design is as follows:\n",
    "#    Design A: [100, 120, 110, 90, 95]\n",
    "#    Design B: [80, 85, 90, 95, 100]\n",
    "#    Perform a chi-square test to determine if there is a significant difference in the click-through rates between the two designs.\n"
   ]
  },
  {
   "cell_type": "markdown",
   "id": "75f46a50",
   "metadata": {},
   "source": [
    "## Null hypothesis (H₀): There is no significant difference in the click-through rates between Design A and Design B.\n",
    "## Alternative hypothesis (H₁): There is a significant difference in the click-through rates between Design A and Design B.\n",
    "## Now, we calculate the expected frequencies for each category. The expected frequency is calculated as (row total × column total) / grand total. In this case, the row totals represent the total number of clicks for each design, the column totals represent the total number of clicks for each click count, and the grand total represents the overall total number of clicks.\n",
    "\n",
    "## Design A: [100, 120, 110, 90, 95] (Row total: 515)\n",
    "## Design B: [80, 85, 90, 95, 100] (Row total: 450)\n",
    "\n",
    "## Click count: [80, 85, 90, 95, 100, 110, 120]\n",
    "## Column total: [1, 1, 2, 2, 2, 1, 1]\n",
    "\n",
    "## Now we can calculate the expected frequencies for each cell:\n",
    "\n",
    "## Expected frequency for Design A and click count 80: (515 * 1) / 7 ≈ 73.57\n",
    "## Expected frequency for Design A and click count 85: (515 * 1) / 7 ≈ 73.57\n",
    "## Expected frequency for Design A and click count 90: (515 * 2) / 7 ≈ 147.14\n",
    "## Expected frequency for Design A and click count 95: (515 * 2) / 7 ≈ 147.14\n",
    "## Expected frequency for Design A and click count 100: (515 * 2) / 7 ≈ 147.14\n",
    "## Expected frequency for Design A and click count 110: (515 * 1) / 7 ≈ 73.57\n",
    "## Expected frequency for Design A and click count 120: (515 * 1) / 7 ≈ 73.57\n",
    "\n",
    "## Expected frequency for Design B and click count 80: (450 * 1) / 7 ≈ 64.29\n",
    "## Expected frequency for Design B and click count 85: (450 * 1) / 7 ≈ 64.29\n",
    "## Expected frequency for Design B and click count 90: (450 * 2) / 7 ≈ 128.57\n",
    "## Expected frequency for Design B and click count 95: (450 * 2) / 7 ≈ 128.57\n",
    "## Expected frequency for Design B and click count 100: (450 * 2) / 7 ≈ 128.57\n",
    "## Expected frequency for Design B and click count 110: (450 * 1) / 7 ≈ 64.29\n",
    "## Expected frequency for Design B and click count 120: (450 * 1) / 7 ≈ 64.29\n",
    "\n",
    "## With the observed and expected frequencies calculated, we can now proceed to perform the chi-square test.\n",
    "## Calculate the chi-square statistic:\n",
    "## χ² = Σ((Oᵢ - Eᵢ)² / Eᵢ)\n",
    "## where Oᵢ is the observed frequency and Eᵢ is the expected frequency.\n",
    "\n",
    "## Determine the degrees of freedom (df):\n",
    "## df = (number of rows - 1) × (number of columns - 1)\n",
    "\n",
    "## Look up the critical chi-square value for the desired significance level and degrees of freedom. Compare the calculated chi-square statistic to the critical value to determine if there is a significant difference."
   ]
  },
  {
   "cell_type": "markdown",
   "id": "49e4cc8e",
   "metadata": {},
   "source": [
    "## By calculating all the values we can see that there are no such significance difference between the two values."
   ]
  },
  {
   "cell_type": "markdown",
   "id": "1151033f",
   "metadata": {},
   "source": [
    "# 13. Scenario: A survey is conducted to measure customer satisfaction with a product on a scale of 1 to 10. The data collected is as follows:\n",
    "#    [7, 9, 6, 8, 10, 7, 8, 9, 7, 8]\n",
    "#    Calculate the 95% confidence interval for the population mean satisfaction score.\n"
   ]
  },
  {
   "cell_type": "markdown",
   "id": "1ff71c6d",
   "metadata": {},
   "source": [
    "## To calculate the 95% confidence interval for the population mean satisfaction score, we can use the following formula:\n",
    "\n",
    "## Confidence Interval = (sample mean) ± (critical value) * (standard deviation / sqrt(sample size))\n",
    "\n",
    "## Given the data collected: [7, 9, 6, 8, 10, 7, 8, 9, 7, 8]\n",
    "\n",
    "## 1. Calculate the sample mean:\n",
    "## sample mean = (7 + 9 + 6 + 8 + 10 + 7 + 8 + 9 + 7 + 8) / 10 = 79 / 10 = 7.9\n",
    "\n",
    "## 2. Calculate the sample standard deviation:\n",
    "## Step 1: Calculate the sample variance.\n",
    "## sample variance = Σ((x - sample mean)²) / (sample size - 1)\n",
    "## = ((7 - 7.9)² + (9 - 7.9)² + (6 - 7.9)² + (8 - 7.9)² + (10 - 7.9)² + (7 - 7.9)² + (8 - 7.9)² + (9 - 7.9)² + (7 - 7.9)² + (8 - 7.9)²) / (10 - 1)\n",
    "## = (0.81 + 1.21 + 2.89 + 0.01 + 4.41 + 0.81 + 0.01 + 1.21 + 0.81 + 0.01) / 9\n",
    "## = 12.07 / 9\n",
    "## = 1.34 (rounded to two decimal places)\n",
    "\n",
    "## Step 2: Calculate the sample standard deviation.\n",
    "## sample standard deviation = sqrt(sample variance)\n",
    "## = sqrt(1.34)\n",
    "## = 1.16 (rounded to two decimal places)\n",
    "\n",
    "## 3. Determine the critical value for a 95% confidence level.\n",
    "## The critical value can be obtained from the t-distribution table or using statistical software. For a 95% confidence level with a sample size of 10 (df = n - 1 = 10 - 1 = 9), the critical value is approximately 2.262 (rounded to three decimal places).\n",
    "\n",
    "## 4. Calculate the standard error:\n",
    "## standard error = (sample standard deviation) / sqrt(sample size)\n",
    "## = 1.16 / sqrt(10)\n",
    "## ≈ 0.367 (rounded to three decimal places)\n",
    "\n",
    "## 5. Calculate the margin of error:\n",
    "## margin of error = (critical value) * (standard error)\n",
    "## = 2.262 * 0.367\n",
    "## ≈ 0.831 (rounded to three decimal places)\n",
    "\n",
    "## 6. Calculate the confidence interval:\n",
    "## Confidence Interval = (sample mean) ± (margin of error)\n",
    "## = 7.9 ± 0.831\n",
    "## ≈ (7.069, 8.731) (rounded to three decimal places)\n",
    "\n",
    "## Therefore, the 95% confidence interval for the population mean satisfaction score is approximately (7.069, 8.731)."
   ]
  },
  {
   "cell_type": "markdown",
   "id": "0f2b1f3f",
   "metadata": {},
   "source": [
    "# 14. Scenario: A company wants to analyze the effect of temperature on product performance. The data collected is as follows:\n",
    "#    Temperature (in degrees Celsius): [20, 22, 23, 19, 21]\n",
    "#    Performance (on a scale of 1 to 10): [8, 7, 9, 6, 8]\n",
    "#    Perform a simple linear regression to predict performance based on temperature.\n"
   ]
  },
  {
   "cell_type": "code",
   "execution_count": 18,
   "id": "d45408e6",
   "metadata": {},
   "outputs": [
    {
     "name": "stdout",
     "output_type": "stream",
     "text": [
      "[12.1  9.6  6.6]\n"
     ]
    }
   ],
   "source": [
    "from sklearn.linear_model import LinearRegression\n",
    "import numpy as np\n",
    "\n",
    "tempeture = np.array([20,22,23,19,21]).reshape(-1, 1)\n",
    "performance = np.array([8,7,9,6,8])\n",
    "\n",
    "# Create and fit the linear regression model\n",
    "regression_model = LinearRegression()\n",
    "regression_model.fit(tempeture, performance)\n",
    "\n",
    "# Predict job satisfaction for new employee tenures\n",
    "new_temperature = np.array([30,25,19]).reshape(-1, 1)\n",
    "predicted_performance = regression_model.predict(new_temperature)\n",
    "\n",
    "print(predicted_performance)\n"
   ]
  },
  {
   "cell_type": "markdown",
   "id": "b8bbe56f",
   "metadata": {},
   "source": [
    "# 15. Scenario: A study is conducted to compare the preferences of two groups of participants. The preferences are measured on a Likert scale from 1 to 5. The data collected is as follows:\n",
    "#    Group A: [4, 3, 5, 2, 4]\n",
    "#    Group B: [3, 2, 4, 3, 3]\n",
    "#    Perform a Mann-Whitney U test to determine if there is a significant difference in the median preferences between the two groups.\n"
   ]
  },
  {
   "cell_type": "code",
   "execution_count": 19,
   "id": "ed6869dc",
   "metadata": {},
   "outputs": [
    {
     "name": "stdout",
     "output_type": "stream",
     "text": [
      "There is no significant difference in the median preferences between Group A and Group B.\n"
     ]
    }
   ],
   "source": [
    "import numpy as np\n",
    "from scipy.stats import mannwhitneyu\n",
    "\n",
    "# Step 2: Prepare the data\n",
    "group_a = np.array([4, 3, 5, 2, 4])\n",
    "group_b = np.array([3, 2, 4, 3, 3])\n",
    "\n",
    "# Step 3: Perform the Mann-Whitney U test\n",
    "statistic, p_value = mannwhitneyu(group_a, group_b)\n",
    "\n",
    "# Step 4: Interpret the results\n",
    "significance_level = 0.05\n",
    "\n",
    "if p_value < significance_level:\n",
    "    print(\"There is a significant difference in the median preferences between Group A and Group B.\")\n",
    "else:\n",
    "    print(\"There is no significant difference in the median preferences between Group A and Group B.\")\n"
   ]
  },
  {
   "cell_type": "markdown",
   "id": "4f62b706",
   "metadata": {},
   "source": [
    "# 16. Scenario: A company wants to analyze the distribution of customer ages. The data collected is as follows:\n",
    "#    [25, 30, 35, 40, 45, 50, 55, 60, 65, 70]\n",
    "#    Calculate the interquartile range (IQR) of the ages.\n"
   ]
  },
  {
   "cell_type": "code",
   "execution_count": 20,
   "id": "80a64083",
   "metadata": {},
   "outputs": [
    {
     "name": "stdout",
     "output_type": "stream",
     "text": [
      "Interquartile Range (IQR): 30\n"
     ]
    }
   ],
   "source": [
    "ages = [25, 30, 35, 40, 45, 50, 55, 60, 65, 70]\n",
    "sorted_ages = sorted(ages)\n",
    "n = len(sorted_ages)\n",
    "q1_index = int(0.25 * (n + 1))\n",
    "q3_index = int(0.75 * (n + 1))\n",
    "\n",
    "q1 = sorted_ages[q1_index - 1]\n",
    "q2 = sorted_ages[int(n / 2)]\n",
    "q3 = sorted_ages[q3_index - 1]\n",
    "iqr = q3 - q1\n",
    "print(\"Interquartile Range (IQR):\", iqr)"
   ]
  },
  {
   "cell_type": "markdown",
   "id": "23e3b702",
   "metadata": {},
   "source": [
    "# 17. Scenario: A study is conducted to compare the performance of three different machine learning algorithms. The accuracy scores for each algorithm are as follows:\n",
    "#    Algorithm A: [0.85, 0.80, 0.82, 0.87, 0.83]\n",
    "#    Algorithm B: [0.78, 0.82, 0.84, 0.80, 0.79]\n",
    "#    Algorithm C: [0.90, 0.88, 0.89, 0.86, 0.87]\n",
    "#    Perform a Kruskal-Wallis test to determine if there is a significant difference in the median accuracy scores between the algorithms.\n"
   ]
  },
  {
   "cell_type": "markdown",
   "id": "769c779e",
   "metadata": {},
   "source": [
    "## To perform a Kruskal-Wallis test and determine if there is a significant difference in the median accuracy scores between the three machine learning algorithms (Algorithm A, Algorithm B, and Algorithm C), follow these steps:\n",
    "\n",
    "## Step 1: State the null and alternative hypotheses:\n",
    "## - Null Hypothesis (H0): There is no significant difference in the median accuracy scores between the algorithms.\n",
    "## - Alternative Hypothesis (Ha): There is a significant difference in the median accuracy scores between the algorithms.\n",
    "\n",
    "## Step 2: Calculate the ranks for the combined data:\n",
    "## Combine the accuracy scores from all algorithms and assign ranks to the scores, ignoring the grouping by algorithm. If there are ties, assign average ranks to tied observations.\n",
    "\n",
    "## Algorithm A: [0.85, 0.80, 0.82, 0.87, 0.83]\n",
    "## Algorithm B: [0.78, 0.82, 0.84, 0.80, 0.79]\n",
    "## Algorithm C: [0.90, 0.88, 0.89, 0.86, 0.87]\n",
    "\n",
    "## Combined data: [0.85, 0.80, 0.82, 0.87, 0.83, 0.78, 0.82, 0.84, 0.80, 0.79, 0.90, 0.88, 0.89, 0.86, 0.87]\n",
    "\n",
    "## Assigning ranks:\n",
    "## 0.78 - Rank 1\n",
    "## 0.79 - Rank 2\n",
    "## 0.80 - Rank 3.5 (average of ranks 3 and 4)\n",
    "## 0.82 - Rank 5.5 (average of ranks 5 and 6)\n",
    "## 0.83 - Rank 7\n",
    "## 0.84 - Rank 8\n",
    "## 0.85 - Rank 9\n",
    "## 0.86 - Rank 10\n",
    "## 0.87 - Rank 11.5 (average of ranks 11 and 12)\n",
    "## 0.88 - Rank 13\n",
    "## 0.89 - Rank 14\n",
    "## 0.90 - Rank 15\n",
    "\n",
    "## Step 3: Calculate the sum of ranks for each algorithm:\n",
    "## Algorithm A: Sum of ranks = 9 + 3.5 + 5.5 + 11.5 + 7 = 36.5\n",
    "## Algorithm B: Sum of ranks = 1 + 2 + 8 + 3.5 + 5.5 = 20\n",
    "## Algorithm C: Sum of ranks = 15 + 13 + 14 + 10 + 11.5 = 63.5\n",
    "\n",
    "## Step 4: Calculate the Kruskal-Wallis test statistic (H):\n",
    "## H = (12 / (N * (N + 1))) * Σ(R^2 / n) - 3 * (N + 1)\n",
    "## where N is the total number of observations and n is the number of observations in each group.\n",
    "\n",
    "## In this case, N = 15 and n = 5 for each algorithm.\n",
    "\n",
    "## H = (12 / (15 * (15 + 1))) * ((36.5^2 / 5) + (20^2 / 5) + (63.5^2 / 5)) - 3 * (15 + 1)\n",
    "## H = (12 / 240) * (1332.25 + 80 + 2037.25) - 3 * 16\n",
    "## H = (0.05) * (3449.5) - 48\n",
    "## H = 172.475 - 48\n",
    "## H = 124.475\n",
    "\n",
    "## Step 5: Determine the critical value and compare it with the test statistic:\n",
    "## To determine if the test statistic is statistically significant, we need to compare it to the critical value from the chi-square distribution with (k - 1) degrees of freedom, where k is the number of groups (in this case, k = 3).\n",
    "\n",
    "## With α (significance level) typically set to 0.05, the critical value for a chi-square test with 2 degrees of freedom is approximately 5.991.\n",
    "\n",
    "## If the test statistic (H) is greater than the critical value, we reject the null hypothesis; otherwise, we fail to reject the null hypothesis.\n",
    "\n",
    "## In this case, the test statistic (H) is 124.475, which is greater than the critical value of 5.991.\n",
    "\n",
    "## Step 6: Interpretation:\n",
    "## Since the test statistic (H) is greater than the critical value, we reject the null hypothesis. This indicates that there is a significant difference in the median accuracy scores between the algorithms.\n",
    "\n",
    "## Therefore, we can conclude that there is a statistically significant difference in the performance of the three machine learning algorithms based on the Kruskal-Wallis test."
   ]
  },
  {
   "cell_type": "markdown",
   "id": "cc6567fb",
   "metadata": {},
   "source": [
    "# 18. Scenario: A company wants to analyze the effect of price on sales. The data collected is as follows:\n",
    "#    Price (in dollars): [10, 15, 12, 8, 14]\n",
    "#    Sales: [100, 80, 90, 110, 95]\n",
    "#    Perform a simple linear regression to predict sales based on price.\n"
   ]
  },
  {
   "cell_type": "code",
   "execution_count": 35,
   "id": "970c2196",
   "metadata": {},
   "outputs": [
    {
     "data": {
      "image/png": "[encoded data removed]",
      "text/plain": [
       "<Figure size 640x480 with 1 Axes>"
      ]
     },
     "metadata": {},
     "output_type": "display_data"
    }
   ],
   "source": [
    "import numpy as np\n",
    "from sklearn.linear_model import LinearRegression\n",
    "import matplotlib.pyplot as plt\n",
    "\n",
    "# Step 2: Prepare the data\n",
    "price = np.array([10, 15, 12, 8, 14]).reshape(-1, 1)\n",
    "sales = np.array([100, 80, 90, 110, 95])\n",
    "\n",
    "# Step 3: Create and fit the linear regression model\n",
    "model = LinearRegression()\n",
    "model.fit(price, sales)\n",
    "\n",
    "# Step 4: Obtain the regression coefficients\n",
    "slope = model.coef_[0]\n",
    "intercept = model.intercept_\n",
    "\n",
    "# Step 5: Predict sales\n",
    "new_price = np.array([11, 13, 16]).reshape(-1, 1)\n",
    "predicted_sales = model.predict(new_price)\n",
    "\n",
    "# Step 6: Visualize the results\n",
    "plt.scatter(price, sales, color='green', label='Actual Sales')\n",
    "plt.plot(new_price, predicted_sales, color='red', label='Predicted Sales')\n",
    "plt.xlabel('Price ($)')\n",
    "plt.ylabel('Sales')\n",
    "plt.title('Price vs Sales')\n",
    "plt.legend()\n",
    "plt.show()\n"
   ]
  },
  {
   "cell_type": "markdown",
   "id": "ec15233a",
   "metadata": {},
   "source": [
    "# 19. Scenario: A survey is conducted to measure the satisfaction levels of customers with a new product. The data collected is as follows:\n",
    "#    [7, 8, 9, 6, 8, 7, 9, 7, 8, 7]\n",
    "#    Calculate the standard error of the mean satisfaction score.\n"
   ]
  },
  {
   "cell_type": "markdown",
   "id": "ce3fc044",
   "metadata": {},
   "source": [
    "## To calculate the standard error of the mean satisfaction score, we can use the formula:\n",
    "\n",
    "## Standard Error = (Standard Deviation) / √(Sample Size)\n",
    "\n",
    "## Step 1: Calculate the sample size (n):\n",
    "## The sample size is the number of observations in the dataset. In this case, the data collected has 10 observations, so the sample size (n) is 10.\n",
    "\n",
    "## Step 2: Calculate the mean satisfaction score:\n",
    "## To calculate the mean satisfaction score, sum up all the scores and divide by the sample size (n).\n",
    "\n",
    "## Mean = (7 + 8 + 9 + 6 + 8 + 7 + 9 + 7 + 8 + 7) / 10\n",
    "## Mean = 76 / 10\n",
    "## Mean = 7.6\n",
    "\n",
    "## Step 3: Calculate the deviation of each score from the mean:\n",
    "## Subtract the mean satisfaction score (7.6) from each individual score.\n",
    "\n",
    "## Deviation = [7 - 7.6, 8 - 7.6, 9 - 7.6, 6 - 7.6, 8 - 7.6, 7 - 7.6, 9 - 7.6, 7 - 7.6, 8 - 7.6, 7 - 7.6]\n",
    "## Deviation = [-0.6, 0.4, 1.4, -1.6, 0.4, -0.6, 1.4, -0.6, 0.4, -0.6]\n",
    "\n",
    "## Step 4: Calculate the squared deviation for each score:\n",
    "## Square each deviation calculated in the previous step.\n",
    "\n",
    "## Squared Deviation = [(-0.6)^2, 0.4^2, 1.4^2, (-1.6)^2, 0.4^2, (-0.6)^2, 1.4^2, (-0.6)^2, 0.4^2, (-0.6)^2]\n",
    "## Squared Deviation = [0.36, 0.16, 1.96, 2.56, 0.16, 0.36, 1.96, 0.36, 0.16, 0.36]\n",
    "\n",
    "## Step 5: Calculate the variance:\n",
    "## Variance is the average of the squared deviations.\n",
    "\n",
    "## Variance = (0.36 + 0.16 + 1.96 + 2.56 + 0.16 + 0.36 + 1.96 + 0.36 + 0.16 + 0.36) / 10\n",
    "## Variance = 9.08 / 10\n",
    "## Variance = 0.908\n",
    "\n",
    "## Step 6: Calculate the standard deviation:\n",
    "## Standard deviation is the square root of the variance.\n",
    "\n",
    "## Standard Deviation = √(0.908)\n",
    "## Standard Deviation ≈ 0.954\n",
    "\n",
    "## Step 7: Calculate the standard error of the mean:\n",
    "## The standard error of the mean is the standard deviation divided by the square root of the sample size.\n",
    "\n",
    "## Standard Error = 0.954 / √(10)\n",
    "## Standard Error ≈ 0.301\n",
    "\n",
    "## Therefore, the standard error of the mean satisfaction score is approximately 0.301."
   ]
  },
  {
   "cell_type": "markdown",
   "id": "46e8282a",
   "metadata": {},
   "source": [
    "# 20. Scenario: A company wants to analyze the relationship between advertising expenditure and sales. The data collected is as follows:\n",
    "#    Advertising Expenditure (in thousands): [10, 15, 12, 8, 14]\n",
    "#    Sales (in thousands): [25, 30, 28, 20, 26]\n",
    "#    Perform a multiple regression analysis to predict sales based on advertising expenditure.\n"
   ]
  },
  {
   "cell_type": "code",
   "execution_count": 21,
   "id": "aa0ad0a2",
   "metadata": {},
   "outputs": [
    {
     "name": "stdout",
     "output_type": "stream",
     "text": [
      "Regression Coefficients:\n",
      "Intercept: 12.201219512195117\n",
      "Advertising Expenditure: 1.1524390243902436\n",
      "\n",
      "Summary:\n",
      "                            OLS Regression Results                            \n",
      "==============================================================================\n",
      "Dep. Variable:                      y   R-squared:                       0.767\n",
      "Model:                            OLS   Adj. R-squared:                  0.689\n",
      "Method:                 Least Squares   F-statistic:                     9.872\n",
      "Date:                Wed, 12 Jul 2023   Prob (F-statistic):             0.0516\n",
      "Time:                        23:01:21   Log-Likelihood:                -9.5288\n",
      "No. Observations:                   5   AIC:                             23.06\n",
      "Df Residuals:                       3   BIC:                             22.28\n",
      "Df Model:                           1                                         \n",
      "Covariance Type:            nonrobust                                         \n",
      "==============================================================================\n",
      "                 coef    std err          t      P>|t|      [0.025      0.975]\n",
      "------------------------------------------------------------------------------\n",
      "const         12.2012      4.429      2.755      0.070      -1.893      26.296\n",
      "x1             1.1524      0.367      3.142      0.052      -0.015       2.320\n",
      "==============================================================================\n",
      "Omnibus:                          nan   Durbin-Watson:                   1.136\n",
      "Prob(Omnibus):                    nan   Jarque-Bera (JB):                0.546\n",
      "Skew:                          -0.267   Prob(JB):                        0.761\n",
      "Kurtosis:                       1.471   Cond. No.                         57.3\n",
      "==============================================================================\n",
      "\n",
      "Notes:\n",
      "[1] Standard Errors assume that the covariance matrix of the errors is correctly specified.\n"
     ]
    },
    {
     "name": "stderr",
     "output_type": "stream",
     "text": [
      "C:\\Users\\halde\\anaconda\\lib\\site-packages\\statsmodels\\stats\\stattools.py:74: ValueWarning: omni_normtest is not valid with less than 8 observations; 5 samples were given.\n",
      "  warn(\"omni_normtest is not valid with less than 8 observations; %i \"\n"
     ]
    }
   ],
   "source": [
    "import numpy as np\n",
    "import statsmodels.api as sm\n",
    "\n",
    "# Advertising Expenditure (in thousands)\n",
    "x = [10, 15, 12, 8, 14]\n",
    "\n",
    "# Sales (in thousands)\n",
    "y = [25, 30, 28, 20, 26]\n",
    "\n",
    "# Add a constant term to the independent variable\n",
    "X = sm.add_constant(x)\n",
    "\n",
    "# Create and fit the model\n",
    "model = sm.OLS(y, X)\n",
    "results = model.fit()\n",
    "\n",
    "# Print the regression coefficients and summary\n",
    "print(\"Regression Coefficients:\")\n",
    "print(\"Intercept:\", results.params[0])\n",
    "print(\"Advertising Expenditure:\", results.params[1])\n",
    "print(\"\\nSummary:\")\n",
    "print(results.summary())\n"
   ]
  },
  {
   "cell_type": "code",
   "execution_count": null,
   "id": "b9c0d78b",
   "metadata": {},
   "outputs": [],
   "source": []
  }
 ],
 "metadata": {
  "kernelspec": {
   "display_name": "Python 3 (ipykernel)",
   "language": "python",
   "name": "python3"
  },
  "language_info": {
   "codemirror_mode": {
    "name": "ipython",
    "version": 3
   },
   "file_extension": ".py",
   "mimetype": "text/x-python",
   "name": "python",
   "nbconvert_exporter": "python",
   "pygments_lexer": "ipython3",
   "version": "3.10.9"
  }
 },
 "nbformat": 4,
 "nbformat_minor": 5
}
